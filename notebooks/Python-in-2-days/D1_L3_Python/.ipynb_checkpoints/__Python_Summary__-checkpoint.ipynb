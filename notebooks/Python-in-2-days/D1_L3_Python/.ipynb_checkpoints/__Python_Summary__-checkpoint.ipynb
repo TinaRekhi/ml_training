{
 "cells": [
  {
   "cell_type": "markdown",
   "metadata": {
    "colab_type": "text",
    "id": "bOChJSNXtC9g"
   },
   "source": [
    "# Introduction to Python"
   ]
  },
  {
   "cell_type": "code",
   "execution_count": null,
   "metadata": {},
   "outputs": [],
   "source": []
  },
  {
   "cell_type": "markdown",
   "metadata": {
    "colab_type": "text",
    "id": "OLIxEDq6VhvZ"
   },
   "source": [
    "In this lesson we will learn the basics of the Python programming language (version 3). We won't learn everything about Python but enough to do some basic machine learning.\n",
    "\n",
    "<img src=\"figures/python.png\" width=350>\n",
    "\n",
    "\n"
   ]
  },
  {
   "cell_type": "markdown",
   "metadata": {
    "colab_type": "text",
    "id": "VoMq0eFRvugb"
   },
   "source": [
    "#  Variables"
   ]
  },
  {
   "cell_type": "markdown",
   "metadata": {
    "colab_type": "text",
    "id": "qWro5T5qTJJL"
   },
   "source": [
    "Variables are objects in Python that can hold anything with numbers or text. Let's look at how to create some variables."
   ]
  },
  {
   "cell_type": "code",
   "execution_count": 4,
   "metadata": {
    "colab": {
     "base_uri": "https://localhost:8080/",
     "height": 34
    },
    "colab_type": "code",
    "id": "0-dXQiLlTIgz",
    "outputId": "38d1f8a5-b067-416b-b042-38a373624a8b"
   },
   "outputs": [],
   "source": [
    "# Numerical example\n",
    "x = 5\n",
    "print (x)"
   ]
  },
  {
   "cell_type": "code",
   "execution_count": 1,
   "metadata": {},
   "outputs": [
    {
     "name": "stdout",
     "output_type": "stream",
     "text": [
      "2\n"
     ]
    }
   ],
   "source": [
    "y = 2\n",
    "print (y)\n"
   ]
  },
  {
   "cell_type": "code",
   "execution_count": 1,
   "metadata": {},
   "outputs": [
    {
     "name": "stdout",
     "output_type": "stream",
     "text": [
      "9\n"
     ]
    }
   ],
   "source": [
    "#TOM - explored variable additions.\n",
    "x = 4\n",
    "y = 5\n",
    "print(x+y)\n"
   ]
  },
  {
   "cell_type": "code",
   "execution_count": 2,
   "metadata": {
    "colab": {
     "base_uri": "https://localhost:8080/",
     "height": 34
    },
    "colab_type": "code",
    "id": "5Ym0owFxTkjo",
    "outputId": "72c2781a-4435-4c21-b15a-4c070d47bd86"
   },
   "outputs": [
    {
     "name": "stdout",
     "output_type": "stream",
     "text": [
      "hello\n"
     ]
    }
   ],
   "source": [
    "# Text example\n",
    "x = \"hello\"\n",
    "print (x)"
   ]
  },
  {
   "cell_type": "code",
   "execution_count": 3,
   "metadata": {},
   "outputs": [
    {
     "name": "stdout",
     "output_type": "stream",
     "text": [
      "I love Data Science!\n",
      "I love Data Science!\n"
     ]
    }
   ],
   "source": [
    "# TOM - Explored print command - Typed I love Data Science\n",
    "x=\"I \"\n",
    "y = \"love \"\n",
    "z = \"Data Science!\"\n",
    "print (x+y+z)\n",
    "a = x + y + z\n",
    "print (a)"
   ]
  },
  {
   "cell_type": "code",
   "execution_count": 3,
   "metadata": {
    "colab": {
     "base_uri": "https://localhost:8080/",
     "height": 34
    },
    "colab_type": "code",
    "id": "1a4ZhMV1T1-0",
    "outputId": "0817e041-5f79-46d8-84cc-ee4aaea0eba2"
   },
   "outputs": [
    {
     "name": "stdout",
     "output_type": "stream",
     "text": [
      "3\n"
     ]
    }
   ],
   "source": [
    "# Variables can be used with each other\n",
    "a = 1\n",
    "b = 2\n",
    "c = a + b\n",
    "print (c)"
   ]
  },
  {
   "cell_type": "code",
   "execution_count": 4,
   "metadata": {},
   "outputs": [
    {
     "name": "stdout",
     "output_type": "stream",
     "text": [
      "4\n"
     ]
    }
   ],
   "source": [
    "# TOM - Explored mathematical operations on variables\n",
    "a = 2\n",
    "b = 2\n",
    "c = a*b\n",
    "print (c)"
   ]
  },
  {
   "cell_type": "markdown",
   "metadata": {
    "colab_type": "text",
    "id": "nbKV4aTdUC1_"
   },
   "source": [
    "Variables can come in lots of different types. Even within numerical variables, you can have integers (int), floats (float), etc. All text based variables are of type string (str). We can see what type a variable is by printing its type."
   ]
  },
  {
   "cell_type": "code",
   "execution_count": 4,
   "metadata": {
    "colab": {
     "base_uri": "https://localhost:8080/",
     "height": 153
    },
    "colab_type": "code",
    "id": "c3NJmfO4Uc6V",
    "outputId": "04b91fa4-51af-48f4-e9ac-591b5bf3e714",
    "scrolled": true
   },
   "outputs": [
    {
     "name": "stdout",
     "output_type": "stream",
     "text": [
      "5\n",
      "<class 'int'>\n",
      "5.0\n",
      "<class 'float'>\n",
      "5\n",
      "<class 'str'>\n",
      "True\n",
      "<class 'bool'>\n"
     ]
    }
   ],
   "source": [
    "# int variable\n",
    "x = 5\n",
    "print (x)\n",
    "print (type(x))\n",
    "\n",
    "# float variable\n",
    "x = 5.0\n",
    "print (x)\n",
    "print (type(x))\n",
    "\n",
    "# text variable\n",
    "x = \"5\" \n",
    "print (x)\n",
    "print (type(x))\n",
    "\n",
    "# boolean variable\n",
    "x = True\n",
    "print (x)\n",
    "print (type(x))"
   ]
  },
  {
   "cell_type": "code",
   "execution_count": 14,
   "metadata": {},
   "outputs": [
    {
     "name": "stdout",
     "output_type": "stream",
     "text": [
      "4\n",
      "<class 'int'>\n",
      "Hi\n",
      "<class 'str'>\n",
      "2.1\n",
      "<class 'float'>\n",
      "True\n",
      "<class 'bool'>\n"
     ]
    }
   ],
   "source": [
    "# TOM - Explored variables and type\n",
    "x = 2*2\n",
    "print (x)\n",
    "print (type(x))\n",
    "\n",
    "y = \"Hi\"\n",
    "print (y)\n",
    "print (type(y))\n",
    "\n",
    "z = 2.1\n",
    "print (z)\n",
    "print (type(z))\n",
    "\n",
    "a = x>z\n",
    "print (a)\n",
    "print (type(a))\n",
    "\n",
    "\n"
   ]
  },
  {
   "cell_type": "markdown",
   "metadata": {
    "colab_type": "text",
    "id": "6HPtavfdU8Ut"
   },
   "source": [
    "It's good practice to know what types your variables are. When you want to use numerical operations on them, they need to be compatible. "
   ]
  },
  {
   "cell_type": "code",
   "execution_count": 5,
   "metadata": {
    "colab": {
     "base_uri": "https://localhost:8080/",
     "height": 51
    },
    "colab_type": "code",
    "id": "8pr1-i7IVD-h",
    "outputId": "c2bce48d-b69f-4aab-95c1-9e588f67a6c3"
   },
   "outputs": [
    {
     "name": "stdout",
     "output_type": "stream",
     "text": [
      "8\n",
      "53\n"
     ]
    }
   ],
   "source": [
    "# int variables\n",
    "a = 5\n",
    "b = 3\n",
    "print (a + b)\n",
    "\n",
    "# string variables\n",
    "a = \"5\"\n",
    "b = \"3\"\n",
    "print (a + b)"
   ]
  },
  {
   "cell_type": "code",
   "execution_count": 17,
   "metadata": {},
   "outputs": [
    {
     "name": "stdout",
     "output_type": "stream",
     "text": [
      "3\n",
      "23 ducklings go quack quack quack!\n"
     ]
    }
   ],
   "source": [
    "# TOM - Applied operations on integers and strings.\n",
    "a = 1\n",
    "b = 2\n",
    "print (a+b)\n",
    "\n",
    "x = \"2\"\n",
    "y = \"3\"\n",
    "z = \" ducklings go \"\n",
    "c = \"quack \"\n",
    "d = c*2 + \"quack!\"\n",
    "print (x+y+z+d)"
   ]
  },
  {
   "cell_type": "markdown",
   "metadata": {
    "colab_type": "text",
    "id": "q4R_UF6PVw4V"
   },
   "source": [
    "#  Lists"
   ]
  },
  {
   "cell_type": "markdown",
   "metadata": {
    "colab_type": "text",
    "id": "LvGsQBj4VjMl"
   },
   "source": [
    "Lists are objects in Python that can hold a ordered sequence of numbers **and** text."
   ]
  },
  {
   "cell_type": "code",
   "execution_count": 7,
   "metadata": {
    "colab": {
     "base_uri": "https://localhost:8080/",
     "height": 34
    },
    "colab_type": "code",
    "id": "9iPESkq9VvlX",
    "outputId": "67dfbe9f-d4cb-4a62-a812-7c5c8a01c2fa"
   },
   "outputs": [
    {
     "name": "stdout",
     "output_type": "stream",
     "text": [
      "[3, 'hello', 1]\n"
     ]
    }
   ],
   "source": [
    "# Creating a list\n",
    "list_x = [3, \"hello\", 1]\n",
    "print (list_x)"
   ]
  },
  {
   "cell_type": "code",
   "execution_count": 23,
   "metadata": {},
   "outputs": [
    {
     "name": "stdout",
     "output_type": "stream",
     "text": [
      "[1, 2, 3, 4, 5]\n"
     ]
    }
   ],
   "source": [
    "# TOM - Created a list\n",
    "\n",
    "list_y = [1, 1+1, 1+2, 1+3, 1+4]\n",
    "print(list_y)\n"
   ]
  },
  {
   "cell_type": "markdown",
   "metadata": {
    "colab_type": "text",
    "id": "0xC6WvuwbGDg"
   },
   "source": []
  },
  {
   "cell_type": "code",
   "execution_count": 24,
   "metadata": {
    "colab": {
     "base_uri": "https://localhost:8080/",
     "height": 34
    },
    "colab_type": "code",
    "id": "7lbajc-zV515",
    "outputId": "4345bbe0-0f0c-4f84-bcf2-a76130899f34"
   },
   "outputs": [
    {
     "name": "stdout",
     "output_type": "stream",
     "text": [
      "[1, 2, 3, 4, 5, 7]\n"
     ]
    }
   ],
   "source": [
    "# Adding to a list\n",
    "list_x.append(7)\n",
    "print (list_x)"
   ]
  },
  {
   "cell_type": "code",
   "execution_count": 37,
   "metadata": {},
   "outputs": [
    {
     "name": "stdout",
     "output_type": "stream",
     "text": [
      "[1, 2, 3, 4, 5]\n",
      "[1, 2, 3, 4, 5, 6]\n",
      "[1, 2, 3, 4, 5, 6, 'avg']\n",
      "[1, 2, 3, 4, 5, 6, 'avg', 3.5]\n"
     ]
    }
   ],
   "source": [
    "# TOM - Adding to the list using append. Used Mathematical operations as well.\n",
    "list_y = [1, 1+1, 1+2, 1+3, 1+4]\n",
    "print(list_y)\n",
    "list_y.append(1+5)\n",
    "print (list_y)\n",
    "\n",
    "list_y.append(\"avg\")\n",
    "print (list_y)\n",
    "\n",
    "z = 1+2+3+4+5+6\n",
    "list_y.append(z/6)\n",
    "\n",
    "print (list_y)\n"
   ]
  },
  {
   "cell_type": "code",
   "execution_count": 8,
   "metadata": {
    "colab": {
     "base_uri": "https://localhost:8080/",
     "height": 102
    },
    "colab_type": "code",
    "id": "W0xpIryJWCN9",
    "outputId": "a7676615-aff1-402f-d41f-81d004728f94"
   },
   "outputs": [
    {
     "name": "stdout",
     "output_type": "stream",
     "text": [
      "list_x[0]:  3\n",
      "list_x[1]:  hello\n",
      "list_x[2]:  1\n",
      "list_x[-1]:  7\n",
      "list_x[-2]:  1\n"
     ]
    }
   ],
   "source": [
    "# Accessing items at specific location in a list\n",
    "print (\"list_x[0]: \", list_x[0])\n",
    "print (\"list_x[1]: \", list_x[1])\n",
    "print (\"list_x[2]: \", list_x[2])\n",
    "print (\"list_x[-1]: \", list_x[-1]) # the last item\n",
    "print (\"list_x[-2]: \", list_x[-2]) # the second to last item"
   ]
  },
  {
   "cell_type": "code",
   "execution_count": 47,
   "metadata": {},
   "outputs": [
    {
     "name": "stdout",
     "output_type": "stream",
     "text": [
      "[1, 2, 3, 4, 5, 6, 'avg', 3.5]\n",
      "Even Numbers in ascending order:  2 4 6\n",
      "Odd Numbers in descending order:  5 3 1\n"
     ]
    }
   ],
   "source": [
    "# TOM - Accessing items at specific locations in a list. Organized the list in Odd/Even plus Ascending/Descending order.\n",
    "\n",
    "list_y = [1, 1+1, 1+2, 1+3, 1+4]\n",
    "list_y.append(1+5)\n",
    "list_y.append(\"avg\")\n",
    "z = 1+2+3+4+5+6\n",
    "list_y.append(z/6)\n",
    "print (list_y)\n",
    "\n",
    "print (\"Even Numbers in ascending order: \", list_y[1], list_y[3], list_y[5])\n",
    "print (\"Odd Numbers in descending order: \", list_y[-4], list_y[-6], list_y[-8])\n",
    "\n"
   ]
  },
  {
   "cell_type": "code",
   "execution_count": 9,
   "metadata": {
    "colab": {
     "base_uri": "https://localhost:8080/",
     "height": 85
    },
    "colab_type": "code",
    "id": "VSu_HNrnc1WK",
    "outputId": "3c40cce2-9599-41aa-b01c-7c6f39329212"
   },
   "outputs": [
    {
     "name": "stdout",
     "output_type": "stream",
     "text": [
      "list_x[:]:  [3, 'hello', 1, 7]\n",
      "list_x[2:]:  [1, 7]\n",
      "list_x[1:3]:  ['hello', 1]\n",
      "list_x[:-1]:  [3, 'hello', 1]\n"
     ]
    }
   ],
   "source": [
    "# Slicing\n",
    "print (\"list_x[:]: \", list_x[:])\n",
    "print (\"list_x[2:]: \", list_x[2:])\n",
    "print (\"list_x[1:3]: \", list_x[1:3])\n",
    "print (\"list_x[:-1]: \", list_x[:-1])"
   ]
  },
  {
   "cell_type": "code",
   "execution_count": 56,
   "metadata": {},
   "outputs": [
    {
     "name": "stdout",
     "output_type": "stream",
     "text": [
      "[1, 2, 3, 4, 5, 6, 'Average', 3.5]\n",
      "[1, 2, 3, 4, 5, 6]\n",
      "['Average', 3.5]\n"
     ]
    }
   ],
   "source": [
    "#TOM - Practiced Slicing. Removed the Average calculation\n",
    "\n",
    "list_y = [1, 1+1, 1+2, 1+3, 1+4]\n",
    "list_y.append(1+5)\n",
    "list_y.append(\"Average\")\n",
    "z = 1+2+3+4+5+6\n",
    "list_y.append(z/6)\n",
    "print (list_y[:])\n",
    "print (list_y[:6])\n",
    "print (list_y[6:])\n"
   ]
  },
  {
   "cell_type": "code",
   "execution_count": 10,
   "metadata": {
    "colab": {
     "base_uri": "https://localhost:8080/",
     "height": 34
    },
    "colab_type": "code",
    "id": "dImY-hVzWxB4",
    "outputId": "8394f232-aa11-4dbd-8580-70adb5adc807"
   },
   "outputs": [
    {
     "data": {
      "text/plain": [
       "4"
      ]
     },
     "execution_count": 10,
     "metadata": {},
     "output_type": "execute_result"
    }
   ],
   "source": [
    "# Length of a list\n",
    "len(list_x)"
   ]
  },
  {
   "cell_type": "code",
   "execution_count": 61,
   "metadata": {},
   "outputs": [
    {
     "name": "stdout",
     "output_type": "stream",
     "text": [
      "[1, 2, 3, 4, 5, 6, 'Average', 3.5]\n"
     ]
    },
    {
     "data": {
      "text/plain": [
       "8"
      ]
     },
     "execution_count": 61,
     "metadata": {},
     "output_type": "execute_result"
    }
   ],
   "source": [
    "#TOM - Calculated the length of the list\n",
    "\n",
    "list_y = [1, 1+1, 1+2, 1+3, 1+4]\n",
    "list_y.append(1+5)\n",
    "list_y.append(\"Average\")\n",
    "z = 1+2+3+4+5+6\n",
    "list_y.append(z/6)\n",
    "print (list_y[:])\n",
    "len (list_y)\n",
    "\n"
   ]
  },
  {
   "cell_type": "code",
   "execution_count": 11,
   "metadata": {
    "colab": {
     "base_uri": "https://localhost:8080/",
     "height": 34
    },
    "colab_type": "code",
    "id": "3-reXDniW_sm",
    "outputId": "382d1a40-ad1a-49f7-f70f-2c2a02ffd88d"
   },
   "outputs": [
    {
     "name": "stdout",
     "output_type": "stream",
     "text": [
      "[3, 'hi', 1, 7]\n"
     ]
    }
   ],
   "source": [
    "# Replacing items in a list\n",
    "list_x[1] = \"hi\"\n",
    "print (list_x)"
   ]
  },
  {
   "cell_type": "code",
   "execution_count": 157,
   "metadata": {},
   "outputs": [
    {
     "name": "stdout",
     "output_type": "stream",
     "text": [
      "[1, 2, 3, 4, 5, 6, 'Average', 3.5]\n",
      "[1, 2, 3, 4, 5, 6, 'Average of all the numbers is ', 3.5]\n"
     ]
    }
   ],
   "source": [
    "#TOM Replacing items in a list - By adding to the Average text\n",
    "\n",
    "list_y = [1, 1+1, 1+2, 1+3, 1+4]\n",
    "list_y.append(1+5)\n",
    "list_y.append(\"Average\")\n",
    "z = 1+2+3+4+5+6\n",
    "list_y.append(z/6)\n",
    "print (list_y[:])\n",
    "list_y[6]=\"Average of all the numbers is \"\n",
    "print(list_y)\n"
   ]
  },
  {
   "cell_type": "code",
   "execution_count": 12,
   "metadata": {
    "colab": {
     "base_uri": "https://localhost:8080/",
     "height": 34
    },
    "colab_type": "code",
    "id": "X8T5I3bjXJ0S",
    "outputId": "1ede1c5c-c6ea-452f-b13d-ff9efd3d53b0"
   },
   "outputs": [
    {
     "name": "stdout",
     "output_type": "stream",
     "text": [
      "[3, 'hi', 1, 7, 2.4, 'world']\n"
     ]
    }
   ],
   "source": [
    "# Combining lists\n",
    "list_y = [2.4, \"world\"]\n",
    "list_z = list_x + list_y\n",
    "print (list_z)"
   ]
  },
  {
   "cell_type": "code",
   "execution_count": 68,
   "metadata": {},
   "outputs": [
    {
     "name": "stdout",
     "output_type": "stream",
     "text": [
      "[1, 2, 3, 4, 5, 6, 'Average', 3.5]\n",
      "[1, 2, 3, 4, 5, 6, 'Average of the numbers is', 3.5]\n",
      "['Sum of the numbers is', 21]\n",
      "[1, 2, 3, 4, 5, 6, 'Average of the numbers is', 3.5, 'Sum of the numbers is', 21]\n"
     ]
    }
   ],
   "source": [
    "#TOM Combining lists. Added the Sum portion to the Average.\n",
    "\n",
    "list_y = [1, 1+1, 1+2, 1+3, 1+4]\n",
    "list_y.append(1+5)\n",
    "list_y.append(\"Average\")\n",
    "z = 1+2+3+4+5+6\n",
    "list_y.append(z/6)\n",
    "print (list_y[:])\n",
    "list_y[6]=\"Average of the numbers is\"\n",
    "print(list_y)\n",
    "\n",
    "a = 1+2+3+4+5+6\n",
    "list_z = [\"Sum of the numbers is\", a]\n",
    "print (list_z)\n",
    "\n",
    "list_b = list_y + list_z\n",
    "print (list_b)"
   ]
  },
  {
   "cell_type": "markdown",
   "metadata": {
    "colab_type": "text",
    "id": "ddpIO6LLVzh0"
   },
   "source": [
    "# Tuples"
   ]
  },
  {
   "cell_type": "markdown",
   "metadata": {
    "colab_type": "text",
    "id": "CAZblq7oXY3s"
   },
   "source": [
    "Tuples are also objects in Python that can hold data but you cannot replace their values (for this reason, tuples are called immutable, whereas lists are known as mutable)."
   ]
  },
  {
   "cell_type": "code",
   "execution_count": 13,
   "metadata": {
    "colab": {
     "base_uri": "https://localhost:8080/",
     "height": 34
    },
    "colab_type": "code",
    "id": "G95lu8xWXY90",
    "outputId": "c23250e5-534a-48e6-ed52-f034859f73c2"
   },
   "outputs": [
    {
     "name": "stdout",
     "output_type": "stream",
     "text": [
      "(3.0, 'hello')\n"
     ]
    }
   ],
   "source": [
    "# Creating a tuple\n",
    "tuple_x = (3.0, \"hello\")\n",
    "print (tuple_x)"
   ]
  },
  {
   "cell_type": "code",
   "execution_count": 69,
   "metadata": {},
   "outputs": [
    {
     "name": "stdout",
     "output_type": "stream",
     "text": [
      "('Hello', 2021)\n"
     ]
    }
   ],
   "source": [
    "#TOM - Explored Tuples\n",
    "tuple_a = (\"Hello\", 2021)\n",
    "print(tuple_a)"
   ]
  },
  {
   "cell_type": "code",
   "execution_count": 14,
   "metadata": {
    "colab": {
     "base_uri": "https://localhost:8080/",
     "height": 34
    },
    "colab_type": "code",
    "id": "kq23Bej1acAP",
    "outputId": "34edfbff-dbc0-4385-a118-7f1bcc49e84f"
   },
   "outputs": [
    {
     "name": "stdout",
     "output_type": "stream",
     "text": [
      "(3.0, 'hello', 5.6)\n"
     ]
    }
   ],
   "source": [
    "# Adding values to a tuple\n",
    "tuple_x = tuple_x + (5.6,)\n",
    "print (tuple_x)"
   ]
  },
  {
   "cell_type": "code",
   "execution_count": 83,
   "metadata": {},
   "outputs": [
    {
     "name": "stdout",
     "output_type": "stream",
     "text": [
      "('Hello', 2021)\n",
      "('Hello', 2021, 2020, 2019)\n"
     ]
    }
   ],
   "source": [
    "#TOM - Added 2021 to Hello followed by 2020 and 2019\n",
    "\n",
    "tuple_a = (\"Hello\", 2021)\n",
    "print(tuple_a)\n",
    "\n",
    "tuple_a = tuple_a + (2020,) + (2019,)\n",
    "print(tuple_a)\n"
   ]
  },
  {
   "cell_type": "code",
   "execution_count": 16,
   "metadata": {
    "colab": {
     "base_uri": "https://localhost:8080/",
     "height": 164
    },
    "colab_type": "code",
    "id": "vyTmOc6BXkge",
    "outputId": "dadeac9a-4bb4-43a3-ff40-e8ca6a05ba2c"
   },
   "outputs": [
    {
     "ename": "TypeError",
     "evalue": "'tuple' object does not support item assignment",
     "output_type": "error",
     "traceback": [
      "\u001b[1;31m---------------------------------------------------------------------------\u001b[0m",
      "\u001b[1;31mTypeError\u001b[0m                                 Traceback (most recent call last)",
      "\u001b[1;32m<ipython-input-16-35ff4c27ba35>\u001b[0m in \u001b[0;36m<module>\u001b[1;34m\u001b[0m\n\u001b[0;32m      1\u001b[0m \u001b[1;31m# Trying to change a tuples value (you can't, this should produce an error.)\u001b[0m\u001b[1;33m\u001b[0m\u001b[1;33m\u001b[0m\u001b[1;33m\u001b[0m\u001b[0m\n\u001b[1;32m----> 2\u001b[1;33m \u001b[0mtuple_x\u001b[0m\u001b[1;33m[\u001b[0m\u001b[1;36m1\u001b[0m\u001b[1;33m]\u001b[0m \u001b[1;33m=\u001b[0m \u001b[1;34m\"world\"\u001b[0m\u001b[1;33m\u001b[0m\u001b[1;33m\u001b[0m\u001b[0m\n\u001b[0m",
      "\u001b[1;31mTypeError\u001b[0m: 'tuple' object does not support item assignment"
     ]
    }
   ],
   "source": [
    "# Trying to change a tuples value (you can't, this should produce an error.)\n",
    "tuple_x[1] = \"world\""
   ]
  },
  {
   "cell_type": "code",
   "execution_count": 84,
   "metadata": {},
   "outputs": [
    {
     "name": "stdout",
     "output_type": "stream",
     "text": [
      "('Hello', 2021)\n",
      "('Hello', 2021, 2020, 2019)\n"
     ]
    },
    {
     "ename": "TypeError",
     "evalue": "'tuple' object does not support item assignment",
     "output_type": "error",
     "traceback": [
      "\u001b[1;31m---------------------------------------------------------------------------\u001b[0m",
      "\u001b[1;31mTypeError\u001b[0m                                 Traceback (most recent call last)",
      "\u001b[1;32m<ipython-input-84-d97f2aa9bcd6>\u001b[0m in \u001b[0;36m<module>\u001b[1;34m\u001b[0m\n\u001b[0;32m      7\u001b[0m \u001b[0mprint\u001b[0m\u001b[1;33m(\u001b[0m\u001b[0mtuple_a\u001b[0m\u001b[1;33m)\u001b[0m\u001b[1;33m\u001b[0m\u001b[1;33m\u001b[0m\u001b[0m\n\u001b[0;32m      8\u001b[0m \u001b[1;33m\u001b[0m\u001b[0m\n\u001b[1;32m----> 9\u001b[1;33m \u001b[0mtuple_a\u001b[0m\u001b[1;33m[\u001b[0m\u001b[1;36m1\u001b[0m\u001b[1;33m]\u001b[0m \u001b[1;33m=\u001b[0m \u001b[1;34m\"Error\"\u001b[0m\u001b[1;33m\u001b[0m\u001b[1;33m\u001b[0m\u001b[0m\n\u001b[0m",
      "\u001b[1;31mTypeError\u001b[0m: 'tuple' object does not support item assignment"
     ]
    }
   ],
   "source": [
    "#TOM - Error - practiced changing a tuple value\n",
    "\n",
    "tuple_a = (\"Hello\", 2021)\n",
    "print(tuple_a)\n",
    "\n",
    "tuple_a = tuple_a + (2020,) + (2019,)\n",
    "print(tuple_a)\n",
    "\n",
    "tuple_a[1] = \"Error\""
   ]
  },
  {
   "cell_type": "markdown",
   "metadata": {
    "colab_type": "text",
    "id": "UdlJHkwZV3Mz"
   },
   "source": [
    "# Dictionaries"
   ]
  },
  {
   "cell_type": "markdown",
   "metadata": {
    "colab_type": "text",
    "id": "azp3AoxYXS26"
   },
   "source": [
    "Dictionaries are Python objects that hold key-value pairs. In the example dictionary below, the keys are the \"name\" and \"eye_color\" variables. They each have a value associated with them. A dictionary cannot have two of the same keys. "
   ]
  },
  {
   "cell_type": "code",
   "execution_count": null,
   "metadata": {
    "colab": {
     "base_uri": "https://localhost:8080/",
     "height": 68
    },
    "colab_type": "code",
    "id": "pXhNLbzpXXSk",
    "outputId": "e4bb80e5-4e7b-4cbb-daa6-77490ab25145"
   },
   "outputs": [],
   "source": [
    "# Creating a dictionary\n",
    "dog = {\"name\": \"dog\",\n",
    "        \"eye_color\": \"brown\"}\n",
    "print (dog)\n",
    "print (dog[\"name\"])\n",
    "print (dog[\"eye_color\"])\n"
   ]
  },
  {
   "cell_type": "code",
   "execution_count": 87,
   "metadata": {},
   "outputs": [
    {
     "name": "stdout",
     "output_type": "stream",
     "text": [
      "{'Breakfast': 'Eggs', 'Lunch': 'Vegetables', 'Dinner': 'Fish'}\n",
      "Eggs\n",
      "Vegetables\n",
      "Fish\n"
     ]
    }
   ],
   "source": [
    "#TOM - Created a Menu (Dictionary) \n",
    "Menu = {\"Breakfast\": \"Eggs\", \"Lunch\": \"Vegetables\", \"Dinner\": \"Fish\"}\n",
    "print (Menu)\n",
    "print (Menu[\"Breakfast\"])\n",
    "print (Menu[\"Lunch\"])\n",
    "print (Menu[\"Dinner\"])"
   ]
  },
  {
   "cell_type": "code",
   "execution_count": null,
   "metadata": {
    "colab": {
     "base_uri": "https://localhost:8080/",
     "height": 34
    },
    "colab_type": "code",
    "id": "1HXtX8vQYjXa",
    "outputId": "ad8d1a0f-d134-4c87-99c1-0f77140f2de0"
   },
   "outputs": [],
   "source": [
    "# Changing the value for a key\n",
    "dog[\"eye_color\"] = \"green\"\n",
    "print (dog)"
   ]
  },
  {
   "cell_type": "code",
   "execution_count": 91,
   "metadata": {},
   "outputs": [
    {
     "name": "stdout",
     "output_type": "stream",
     "text": [
      "{'Breakfast': 'Eggs', 'Lunch': 'Vegetables', 'Dinner': 'Fish'}\n",
      "New Menu\n",
      "{'Breakfast': 'Blueberry Pancakes', 'Lunch': 'Crab Cakes', 'Dinner': 'Salad'}\n"
     ]
    }
   ],
   "source": [
    "#TOM - Dictionary (Edit/Modify)\n",
    "Menu = {\"Breakfast\": \"Eggs\", \"Lunch\": \"Vegetables\", \"Dinner\": \"Fish\"}\n",
    "print (Menu)\n",
    "\n",
    "\n",
    "Menu[\"Breakfast\"] = \"Blueberry Pancakes\"\n",
    "Menu[\"Lunch\"] = \"Crab Cakes\"\n",
    "Menu[\"Dinner\"] = \"Salad\"\n",
    "print (\"New Menu\")\n",
    "print(Menu)"
   ]
  },
  {
   "cell_type": "code",
   "execution_count": null,
   "metadata": {
    "colab": {
     "base_uri": "https://localhost:8080/",
     "height": 34
    },
    "colab_type": "code",
    "id": "qn33iB0MY5dT",
    "outputId": "bd89033e-e307-4739-8c1d-f957c32385b5"
   },
   "outputs": [],
   "source": [
    "# Adding new key-value pairs\n",
    "dog[\"age\"] = 5\n",
    "print (dog)"
   ]
  },
  {
   "cell_type": "code",
   "execution_count": 94,
   "metadata": {},
   "outputs": [
    {
     "name": "stdout",
     "output_type": "stream",
     "text": [
      "{'Breakfast': 'Blueberry Pancakes', 'Lunch': 'Crab Cakes', 'Dinner': 'Salad'}\n",
      "Adding Snack to the Menu\n",
      "{'Breakfast': 'Blueberry Pancakes', 'Lunch': 'Crab Cakes', 'Dinner': 'Salad', 'Snack': 'Crumb Cake'}\n"
     ]
    }
   ],
   "source": [
    "#TOM - Dictionary (Adding new key-value pairs)\n",
    "Menu = {\"Breakfast\": \"Eggs\", \"Lunch\": \"Vegetables\", \"Dinner\": \"Fish\"}\n",
    "Menu[\"Breakfast\"] = \"Blueberry Pancakes\"\n",
    "Menu[\"Lunch\"] = \"Crab Cakes\"\n",
    "Menu[\"Dinner\"] = \"Salad\"\n",
    "\n",
    "print (Menu)\n",
    "print (\"Adding Snack to the Menu\")\n",
    "\n",
    "Menu[\"Snack\"] = \"Crumb Cake\"\n",
    "print(Menu)"
   ]
  },
  {
   "cell_type": "code",
   "execution_count": null,
   "metadata": {
    "colab": {
     "base_uri": "https://localhost:8080/",
     "height": 34
    },
    "colab_type": "code",
    "id": "g9EYmzMKa9YV",
    "outputId": "4b9218b9-2f4d-4287-932a-caba430713aa"
   },
   "outputs": [],
   "source": [
    "# Length of a dictionary\n",
    "print (len(dog))"
   ]
  },
  {
   "cell_type": "code",
   "execution_count": 97,
   "metadata": {},
   "outputs": [
    {
     "name": "stdout",
     "output_type": "stream",
     "text": [
      "{'Breakfast': 'Blueberry Pancakes', 'Lunch': 'Crab Cakes', 'Dinner': 'Salad', 'Snack': 'Crumb Cake'}\n",
      "4\n"
     ]
    }
   ],
   "source": [
    "#TOM - Dictionary length\n",
    "Menu = {\"Breakfast\": \"Eggs\", \"Lunch\": \"Vegetables\", \"Dinner\": \"Fish\"}\n",
    "Menu[\"Breakfast\"] = \"Blueberry Pancakes\"\n",
    "Menu[\"Lunch\"] = \"Crab Cakes\"\n",
    "Menu[\"Dinner\"] = \"Salad\"\n",
    "\n",
    "\n",
    "\n",
    "Menu[\"Snack\"] = \"Crumb Cake\"\n",
    "print(Menu)\n",
    "\n",
    "print(len(Menu))\n"
   ]
  },
  {
   "cell_type": "markdown",
   "metadata": {
    "colab_type": "text",
    "id": "B-DInx_Xo2vJ"
   },
   "source": [
    "# If statements"
   ]
  },
  {
   "cell_type": "markdown",
   "metadata": {
    "colab_type": "text",
    "id": "ZG_ICGRGo4tY"
   },
   "source": [
    "You can use `if` statements to conditionally do something."
   ]
  },
  {
   "cell_type": "code",
   "execution_count": null,
   "metadata": {
    "colab": {
     "base_uri": "https://localhost:8080/",
     "height": 34
    },
    "colab_type": "code",
    "id": "uob9lQuKo4Pg",
    "outputId": "21d40476-ea6a-4149-f744-0119d0894d77"
   },
   "outputs": [],
   "source": [
    "# If statement\n",
    "x = 4\n",
    "if x < 1:\n",
    "    score = \"low\"\n",
    "elif x <= 4:\n",
    "    score = \"medium\"\n",
    "else:\n",
    "    score = \"high\"\n",
    "print (score)"
   ]
  },
  {
   "cell_type": "code",
   "execution_count": 101,
   "metadata": {},
   "outputs": [
    {
     "name": "stdout",
     "output_type": "stream",
     "text": [
      "25 - 50\n"
     ]
    }
   ],
   "source": [
    "#TOM - If Statements for calculating 4 groups of numbers\n",
    "\n",
    "x = 45\n",
    "if x<=100 and x>=75:\n",
    "    Percentage=\"75 - 100\"\n",
    "    \n",
    "elif x<74 and x>=50:\n",
    "    Percentage=\"50 - 75\"\n",
    "    \n",
    "elif x<=49 and x>=25:\n",
    "    Percentage=\"25 - 50\"\n",
    "    \n",
    "else:\n",
    "    Percentage=\"0-25\"\n",
    "    \n",
    "print (Percentage)\n",
    "    "
   ]
  },
  {
   "cell_type": "code",
   "execution_count": null,
   "metadata": {
    "colab": {
     "base_uri": "https://localhost:8080/",
     "height": 34
    },
    "colab_type": "code",
    "id": "vwsQaZqIpfJ3",
    "outputId": "1f190875-b910-4e54-a58a-d4230b7c8169"
   },
   "outputs": [],
   "source": [
    "# If statment with a boolean\n",
    "x = True\n",
    "if x:\n",
    "    print (\"it worked\")"
   ]
  },
  {
   "cell_type": "code",
   "execution_count": 158,
   "metadata": {},
   "outputs": [
    {
     "name": "stdout",
     "output_type": "stream",
     "text": [
      "You got it\n"
     ]
    }
   ],
   "source": [
    "#Tom\n",
    "\n",
    "x = True\n",
    "if x:\n",
    "    print (\"You got it\")\n",
    "else:\n",
    "    print (\"Try again\")\n",
    "    \n",
    "    "
   ]
  },
  {
   "cell_type": "markdown",
   "metadata": {
    "colab_type": "text",
    "id": "sJ7NPGEKV6Ik"
   },
   "source": [
    "# Loops"
   ]
  },
  {
   "cell_type": "markdown",
   "metadata": {
    "colab_type": "text",
    "id": "YRVxhVCkn0vc"
   },
   "source": [
    "In Python, you can use `for` loop to iterate over the elements of a sequence such as a list or tuple, or use `while` loop to do something repeatedly as long as a condition holds."
   ]
  },
  {
   "cell_type": "code",
   "execution_count": 17,
   "metadata": {
    "colab": {
     "base_uri": "https://localhost:8080/",
     "height": 68
    },
    "colab_type": "code",
    "id": "OB5PtyqAn8mj",
    "outputId": "b4595670-99d4-473e-b299-bf8cf47f1d81"
   },
   "outputs": [
    {
     "name": "stdout",
     "output_type": "stream",
     "text": [
      "i=0, x=2\n",
      "i=1, x=3\n",
      "i=2, x=4\n"
     ]
    }
   ],
   "source": [
    "# For loop\n",
    "x = 1\n",
    "for i in range(3): # goes from i=0 to i=2\n",
    "    x += 1 # same as x = x + 1\n",
    "    print (\"i={0}, x={1}\".format(i, x)) # printing with multiple variables"
   ]
  },
  {
   "cell_type": "code",
   "execution_count": 132,
   "metadata": {},
   "outputs": [
    {
     "name": "stdout",
     "output_type": "stream",
     "text": [
      "i=0, x=2\n",
      "i=1, x=4\n",
      "i=2, x=6\n",
      "i=3, x=8\n",
      "i=4, x=10\n"
     ]
    }
   ],
   "source": [
    "#TOM - For Loop - changed the range from 3 to 5 and made the x values even.\n",
    "\n",
    "x = 0\n",
    "for i in range(5):\n",
    "    x = x+2 \n",
    "    print (\"i={0}, x={1}\".format(i, x)) # printing with multiple variables   \n",
    "    "
   ]
  },
  {
   "cell_type": "code",
   "execution_count": 18,
   "metadata": {
    "colab": {
     "base_uri": "https://localhost:8080/",
     "height": 68
    },
    "colab_type": "code",
    "id": "6XyhCrFeoGj4",
    "outputId": "2427ae1f-85f7-4888-f47f-8de1992a84c3"
   },
   "outputs": [
    {
     "name": "stdout",
     "output_type": "stream",
     "text": [
      "i=0, x=2\n",
      "i=1, x=3\n",
      "i=2, x=4\n"
     ]
    }
   ],
   "source": [
    "# Loop through items in a list\n",
    "x = 1\n",
    "for i in [0, 1, 2]:\n",
    "    x += 1\n",
    "    print (\"i={0}, x={1}\".format(i, x))"
   ]
  },
  {
   "cell_type": "code",
   "execution_count": 136,
   "metadata": {},
   "outputs": [
    {
     "name": "stdout",
     "output_type": "stream",
     "text": [
      "i=0, x=25\n",
      "i=1, x=50\n",
      "i=2, x=75\n",
      "i=3, x=100\n"
     ]
    }
   ],
   "source": [
    "#TOM - Loop through list items - Using multiples of 25\n",
    "\n",
    "x=0\n",
    "for i in [0, 1, 2, 3]:\n",
    "    x=x+25\n",
    "    print (\"i={0}, x={1}\".format(i,x))"
   ]
  },
  {
   "cell_type": "code",
   "execution_count": 19,
   "metadata": {
    "colab": {
     "base_uri": "https://localhost:8080/",
     "height": 68
    },
    "colab_type": "code",
    "id": "5Tf2x4okp3fH",
    "outputId": "1ac41665-2f35-4c7d-e9f5-22614d3ba35c"
   },
   "outputs": [
    {
     "name": "stdout",
     "output_type": "stream",
     "text": [
      "2\n",
      "1\n",
      "0\n"
     ]
    }
   ],
   "source": [
    "# While loop\n",
    "x = 3\n",
    "while x > 0:\n",
    "    x -= 1 # same as x = x - 1\n",
    "    print (x)"
   ]
  },
  {
   "cell_type": "code",
   "execution_count": 140,
   "metadata": {},
   "outputs": [
    {
     "name": "stdout",
     "output_type": "stream",
     "text": [
      "63\n",
      "56\n",
      "49\n",
      "42\n",
      "35\n",
      "28\n",
      "21\n",
      "14\n",
      "7\n",
      "0\n"
     ]
    }
   ],
   "source": [
    "#Tom - While Loop - Listing multiples of 7 in descending order\n",
    "\n",
    "x = 70\n",
    "while x>0:\n",
    "    x = x-7\n",
    "    print (x)"
   ]
  },
  {
   "cell_type": "markdown",
   "metadata": {
    "colab_type": "text",
    "id": "gJw-EDO9WBL_"
   },
   "source": [
    "# Functions"
   ]
  },
  {
   "cell_type": "markdown",
   "metadata": {
    "colab_type": "text",
    "id": "hDIOUdWCqBwa"
   },
   "source": [
    "Functions are a way to modularize reusable pieces of code. "
   ]
  },
  {
   "cell_type": "code",
   "execution_count": 20,
   "metadata": {
    "colab": {
     "base_uri": "https://localhost:8080/",
     "height": 34
    },
    "colab_type": "code",
    "id": "iin1ZXmMqA0y",
    "outputId": "3bfae4a7-482b-4d43-8350-f8bb5e8a35ac"
   },
   "outputs": [
    {
     "name": "stdout",
     "output_type": "stream",
     "text": [
      "2\n"
     ]
    }
   ],
   "source": [
    "# Create a function\n",
    "def add_two(x):\n",
    "    x += 2\n",
    "    return x\n",
    "\n",
    "# Use the function\n",
    "score = 0\n",
    "score = add_two(x=score)\n",
    "print (score)"
   ]
  },
  {
   "cell_type": "code",
   "execution_count": 142,
   "metadata": {},
   "outputs": [
    {
     "name": "stdout",
     "output_type": "stream",
     "text": [
      "20\n"
     ]
    }
   ],
   "source": [
    "#TOM - Function - Adding 10 to a number\n",
    "\n",
    "def Tens(x):\n",
    "    x=x+10\n",
    "    return x\n",
    "\n",
    "Number = 10\n",
    "Number = Tens(x=Number)\n",
    "print(Number)"
   ]
  },
  {
   "cell_type": "code",
   "execution_count": 21,
   "metadata": {
    "colab": {
     "base_uri": "https://localhost:8080/",
     "height": 34
    },
    "colab_type": "code",
    "id": "DC6x3DMrqlE3",
    "outputId": "8965bfab-3e20-41ae-9fc1-f22a7d4f3333"
   },
   "outputs": [
    {
     "name": "stdout",
     "output_type": "stream",
     "text": [
      "John Doe\n"
     ]
    }
   ],
   "source": [
    "# Function with multiple inputs\n",
    "def join_name(first_name, last_name):\n",
    "    joined_name = first_name + \" \" + last_name\n",
    "    return joined_name\n",
    "\n",
    "# Use the function\n",
    "first_name = \"John\"\n",
    "last_name = \"Doe\"\n",
    "joined_name = join_name(first_name=first_name, last_name=last_name)\n",
    "print (joined_name)"
   ]
  },
  {
   "cell_type": "code",
   "execution_count": 146,
   "metadata": {},
   "outputs": [
    {
     "name": "stdout",
     "output_type": "stream",
     "text": [
      "Jane J Doe\n"
     ]
    }
   ],
   "source": [
    "#TOM - Added Middle Initial and changed the naming convention - gave it a different name within the func (full_name vs. proper_name)\n",
    "\n",
    "def join_name(first_name, mi, last_name):\n",
    "    full_name = first_name+ \" \" + mi + \" \"+ last_name\n",
    "    return full_name\n",
    "\n",
    "f_name = \"Jane\"\n",
    "m_i = \"J\"\n",
    "l_name = \"Doe\"\n",
    "\n",
    "proper_name = join_name(first_name=f_name, mi=m_i, last_name=l_name)\n",
    "print (proper_name)\n"
   ]
  },
  {
   "cell_type": "markdown",
   "metadata": {
    "colab_type": "text",
    "id": "lBLa1n54WEd2"
   },
   "source": [
    "# Classes"
   ]
  },
  {
   "cell_type": "markdown",
   "metadata": {
    "colab_type": "text",
    "id": "mGua8QnArAZh"
   },
   "source": [
    "Classes are a fundamental piece of object oriented programming in Python."
   ]
  },
  {
   "cell_type": "code",
   "execution_count": 22,
   "metadata": {
    "colab": {},
    "colab_type": "code",
    "id": "DXmPwI1frAAd"
   },
   "outputs": [],
   "source": [
    "# Creating the class\n",
    "class Pets(object):\n",
    "  \n",
    "    # Initialize the class\n",
    "    def __init__(self, species, color, name):\n",
    "        self.species = species\n",
    "        self.color = color\n",
    "        self.name = name\n",
    "\n",
    "    # For printing  \n",
    "    def __str__(self):\n",
    "        return \"{0} {1} named {2}.\".format(self.color, self.species, self.name)\n",
    "\n",
    "    # Example function\n",
    "    def change_name(self, new_name):\n",
    "        self.name = new_name"
   ]
  },
  {
   "cell_type": "code",
   "execution_count": 154,
   "metadata": {},
   "outputs": [
    {
     "name": "stdout",
     "output_type": "stream",
     "text": [
      "Orange vegetable named Pepper.\n",
      "vegetable\n"
     ]
    }
   ],
   "source": [
    "#Tom - Creating a Class and instance of a class - Changed dog to Vegetable - Created an instance of a class here itself. \n",
    "\n",
    "class Veg(object):\n",
    "  \n",
    "    \n",
    "    def __init__(self, kind, color, name):\n",
    "        self.kind = kind\n",
    "        self.color = color\n",
    "        self.name = name\n",
    "\n",
    "    # For printing  \n",
    "    def __str__(self):\n",
    "        return \"{0} {1} named {2}.\".format(self.color, self.kind, self.name)\n",
    "\n",
    "    # Example function\n",
    "    def change_name(self, new_name):\n",
    "        self.name = new_name\n",
    "        \n",
    "my_veg = Veg(kind=\"vegetable\", color=\"Orange\", name=\"Pepper\",)\n",
    "print (my_veg)\n",
    "print (my_veg.kind)"
   ]
  },
  {
   "cell_type": "code",
   "execution_count": 23,
   "metadata": {
    "colab": {
     "base_uri": "https://localhost:8080/",
     "height": 51
    },
    "colab_type": "code",
    "id": "ezQq_Fhhrqrv",
    "outputId": "bf159745-99b1-4e33-af4d-f63924a1fe74"
   },
   "outputs": [
    {
     "name": "stdout",
     "output_type": "stream",
     "text": [
      "orange dog named Rover.\n",
      "Rover\n"
     ]
    }
   ],
   "source": [
    "# Creating an instance of a class\n",
    "my_dog = Pets(species=\"dog\", color=\"orange\", name=\"Rover\",)\n",
    "print (my_dog)\n",
    "print (my_dog.name)"
   ]
  },
  {
   "cell_type": "code",
   "execution_count": null,
   "metadata": {},
   "outputs": [],
   "source": [
    "# TOM Please see 154. It includes code for 23."
   ]
  },
  {
   "cell_type": "code",
   "execution_count": 24,
   "metadata": {
    "colab": {
     "base_uri": "https://localhost:8080/",
     "height": 51
    },
    "colab_type": "code",
    "id": "qTinlRj1szc5",
    "outputId": "80939a31-0242-4465-95ff-da0e5caaa67c"
   },
   "outputs": [
    {
     "name": "stdout",
     "output_type": "stream",
     "text": [
      "orange dog named Sparky.\n",
      "Sparky\n"
     ]
    }
   ],
   "source": [
    "# Using a class's function\n",
    "my_dog.change_name(new_name=\"Sparky\")\n",
    "print (my_dog)\n",
    "print (my_dog.name)"
   ]
  },
  {
   "cell_type": "code",
   "execution_count": 156,
   "metadata": {},
   "outputs": [
    {
     "name": "stdout",
     "output_type": "stream",
     "text": [
      "Orange vegetable named Pepper.\n",
      "Pepper\n",
      "Orange vegetable named Carrot.\n",
      "Carrot\n"
     ]
    }
   ],
   "source": [
    "#TOM - Using a class' function on Vegetables\n",
    "\n",
    "class Veg(object):\n",
    "  \n",
    "    \n",
    "    def __init__(self, kind, color, name):\n",
    "        self.kind = kind\n",
    "        self.color = color\n",
    "        self.name = name\n",
    "\n",
    "    # For printing  \n",
    "    def __str__(self):\n",
    "        return \"{0} {1} named {2}.\".format(self.color, self.kind, self.name)\n",
    "\n",
    "    # Example function\n",
    "    def change_name(self, new_name):\n",
    "        self.name = new_name\n",
    "        \n",
    "my_veg = Veg(kind=\"vegetable\", color=\"Orange\", name=\"Pepper\",)\n",
    "print (my_veg)\n",
    "print (my_veg.name)\n",
    "\n",
    "my_veg.change_name(new_name=\"Carrot\")\n",
    "print(my_veg)\n",
    "print(my_veg.name)"
   ]
  },
  {
   "cell_type": "code",
   "execution_count": null,
   "metadata": {},
   "outputs": [],
   "source": []
  },
  {
   "cell_type": "markdown",
   "metadata": {
    "colab_type": "text",
    "id": "kiWtd0aJtNtY"
   },
   "source": [
    "# Additional resources"
   ]
  },
  {
   "cell_type": "markdown",
   "metadata": {
    "colab_type": "text",
    "id": "cfLF4ktmtSC3"
   },
   "source": [
    "This was a very quick look at Python and we'll be learning more in future lessons. If you want to learn more right now before diving into machine learning, check out this free course: [Free Python Course](https://www.codecademy.com/learn/learn-python)"
   ]
  }
 ],
 "metadata": {
  "colab": {
   "collapsed_sections": [],
   "name": "01_Python",
   "provenance": [],
   "toc_visible": true,
   "version": "0.3.2"
  },
  "kernelspec": {
   "display_name": "Python 3",
   "language": "python",
   "name": "python3"
  },
  "language_info": {
   "codemirror_mode": {
    "name": "ipython",
    "version": 3
   },
   "file_extension": ".py",
   "mimetype": "text/x-python",
   "name": "python",
   "nbconvert_exporter": "python",
   "pygments_lexer": "ipython3",
   "version": "3.8.3"
  }
 },
 "nbformat": 4,
 "nbformat_minor": 1
}
